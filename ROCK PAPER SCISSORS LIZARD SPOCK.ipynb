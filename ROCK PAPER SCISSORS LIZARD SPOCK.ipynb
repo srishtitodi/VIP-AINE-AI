{
 "cells": [
  {
   "cell_type": "markdown",
   "metadata": {},
   "source": [
    "# VIP@AINE AI"
   ]
  },
  {
   "cell_type": "markdown",
   "metadata": {},
   "source": [
    "# Developing ‘Rock, Paper, Scissors, Lizard and Spock’ game using Python programming"
   ]
  },
  {
   "cell_type": "markdown",
   "metadata": {},
   "source": [
    "## Submitted by Srishti Todi\n",
    "## Aim: Write a Python program to develop a Rock, Paper, Scissors, Lizard and Spock game to be played against a computer."
   ]
  },
  {
   "cell_type": "code",
   "execution_count": null,
   "metadata": {},
   "outputs": [],
   "source": [
    "#Importing random library \n",
    "from random import randint\n",
    "\n",
    "#Declaring a list of all the variables of the game\n",
    "a=[\"ROCK\",\"PAPER\",\"SCISSORS\",\"LIZARD\",\"SPOCK\"]\n",
    "\n",
    "#Printing the rules of the game\n",
    "print(\"Rules for the game are: \\n\"+\"Rock vs Paper-->Paper covers rock-->Paper wins \\n\"+\n",
    "      \"Scissors vs Paper-->Scissors cut paper-->Scissors wins \\n\"+\n",
    "      \"Rock vs Scissors-->Rock smashes scissors-->Rock wins \\n\"+\"Scissors vs Spock-->Spock smashes scissors-->Spock wins \\n\"+\n",
    "      \"Spock vs Lizard-->Lizard poisons spock-->Lizard wins \\n\"+\n",
    "      \"Scissors vs Lizard-->Scissors decapitates lizard-->Scissors wins \\n\"+\n",
    "      \"Spock vs Rock-->Spock vaporizes rock-->Spock wins \\n\"+\"Rock vs Lizard-->Rock crushes lizard-->Rock wins \\n\"+\n",
    "      \"Lizard vs Paper-->Lizard eats paper-->Lizard wins \\n\"+\"Spock vs Paper-->Paper disproves spock-->Paper wins \\n\")\n",
    "\n",
    "#Using random to simulate the computer's choice\n",
    "computer=a[randint(0,4)]\n",
    "player=False\n",
    "\n",
    "#Defining the loop for the game\n",
    "while player==False:\n",
    "    player=input(\"Enter your choice(rock,paper,scissors,lizard,spock): \").upper()     #Player's input\n",
    "    print(\"Computer's choice is:\"+computer)                                           #This will display computer's choice\n",
    "    #If the choices of the player and the computer are same then it is a tie.\n",
    "    if player==computer:\n",
    "        print(\"It is a tie!!\")\n",
    "        \n",
    "    #If the player's choice is rock\n",
    "    elif player==\"ROCK\":\n",
    "        if computer==\"PAPER\":                               \n",
    "            print(\"You lose.\")\n",
    "        elif computer==\"LIZARD\":\n",
    "            print(\"You win!\")                                 \n",
    "        elif computer==\"SPOCK\":\n",
    "            print(\"You lose.\")                                \n",
    "        else:\n",
    "            print(\"You win!\")                                 \n",
    "            \n",
    "    #If the player's choice is scissors        \n",
    "    elif player==\"SCISSORS\":\n",
    "        if computer==\"PAPER\":\n",
    "            print(\"You win!\")\n",
    "        elif computer==\"LIZARD\":\n",
    "            print(\"You win!\")\n",
    "        elif computer==\"SPOCK\":\n",
    "            print(\"You lose.\")\n",
    "        else:\n",
    "            print(\"You lose.\")\n",
    "            \n",
    "    #If the player's choice is paper        \n",
    "    elif player==\"PAPER\":\n",
    "        if computer==\"SCISSORS\":\n",
    "            print(\"You lose.\")\n",
    "        elif computer==\"LIZARD\":\n",
    "            print(\"You lose.\")\n",
    "        elif computer==\"SPOCK\":\n",
    "            print(\"You win!.\")\n",
    "        else:\n",
    "            print(\"You win!\")\n",
    "            \n",
    "    #If the player's choice is lizard        \n",
    "    elif player==\"LIZARD\":\n",
    "        if computer==\"SCISSORS\":\n",
    "            print(\"You lose.\")\n",
    "        elif computer==\"PAPER\":\n",
    "            print(\"You win!\")\n",
    "        elif computer==\"SPOCK\":\n",
    "            print(\"You win!.\")\n",
    "        else:\n",
    "            print(\"You lose.\")\n",
    "            \n",
    "    #If the player's choice is spock        \n",
    "    elif player==\"SPOCK\":\n",
    "        if computer==\"SCISSORS\":\n",
    "            print(\"You win!\")\n",
    "        elif computer==\"LIZARD\":\n",
    "            print(\"You lose.\")\n",
    "        elif computer==\"PAPER\":\n",
    "            print(\"You lose.\")\n",
    "        else:\n",
    "            print(\"You win!\")\n",
    "    else:\n",
    "        print(\"Enter a valid input.\")\n",
    "    player=False\n",
    "    computer=a[randint(0,4)]\n",
    "    \n",
    "    #Asking the user if he/she wants to play another round \n",
    "    again=input(\"Do you want to play again ?(Y/N): \").lower()\n",
    "    if again==\"n\":\n",
    "        print(\"Thank you for playing the game !!!\")            #This will end the game\n",
    "        break\n",
    "    elif again==\"y\":                                           #This will repeat the loop again \n",
    "        print(\"Here you go again!\")\n",
    "    elif again!=\"n\" or again!=\"y\":\n",
    "        input(\"Enter a valid input.(Y/N): \").lower()"
   ]
  },
  {
   "cell_type": "code",
   "execution_count": null,
   "metadata": {},
   "outputs": [],
   "source": []
  }
 ],
 "metadata": {
  "kernelspec": {
   "display_name": "Python 3",
   "language": "python",
   "name": "python3"
  },
  "language_info": {
   "codemirror_mode": {
    "name": "ipython",
    "version": 3
   },
   "file_extension": ".py",
   "mimetype": "text/x-python",
   "name": "python",
   "nbconvert_exporter": "python",
   "pygments_lexer": "ipython3",
   "version": "3.8.5"
  }
 },
 "nbformat": 4,
 "nbformat_minor": 4
}
